{
 "cells": [
  {
   "cell_type": "code",
   "execution_count": 2,
   "metadata": {},
   "outputs": [
    {
     "name": "stdout",
     "output_type": "stream",
     "text": [
      "Collecting azureml.core\n",
      "  Using cached azureml_core-1.25.0-py3-none-any.whl (2.2 MB)\n",
      "Requirement already satisfied: requests<3.0.0,>=2.19.1 in c:\\users\\if\\anaconda3\\lib\\site-packages (from azureml.core) (2.24.0)\n",
      "Collecting PyJWT<3.0.0\n",
      "  Downloading PyJWT-2.0.1-py3-none-any.whl (15 kB)\n",
      "Collecting azure-common>=1.1.12\n",
      "  Using cached azure_common-1.1.27-py2.py3-none-any.whl (12 kB)\n",
      "Requirement already satisfied: backports.tempfile in c:\\users\\if\\anaconda3\\lib\\site-packages (from azureml.core) (1.0)\n",
      "Collecting pathspec\n",
      "  Using cached pathspec-0.8.1-py2.py3-none-any.whl (28 kB)\n",
      "Collecting azure-mgmt-keyvault<7.0.0,>=0.40.0\n",
      "  Using cached azure_mgmt_keyvault-2.2.0-py2.py3-none-any.whl (89 kB)\n",
      "Requirement already satisfied: python-dateutil>=2.7.3 in c:\\users\\if\\anaconda3\\lib\\site-packages (from azureml.core) (2.8.1)\n",
      "Collecting azure-mgmt-containerregistry>=2.0.0\n",
      "  Using cached azure_mgmt_containerregistry-2.8.0-py2.py3-none-any.whl (718 kB)\n",
      "Collecting ndg-httpsclient\n",
      "  Using cached ndg_httpsclient-0.5.1-py3-none-any.whl (34 kB)\n",
      "Requirement already satisfied: pyopenssl<21.0.0 in c:\\users\\if\\anaconda3\\lib\\site-packages (from azureml.core) (19.1.0)\n",
      "Collecting jsonpickle\n",
      "  Using cached jsonpickle-2.0.0-py2.py3-none-any.whl (37 kB)\n",
      "Collecting azure-mgmt-storage<16.0.0,>=1.5.0\n",
      "  Using cached azure_mgmt_storage-11.2.0-py2.py3-none-any.whl (547 kB)\n",
      "Requirement already satisfied: contextlib2 in c:\\users\\if\\anaconda3\\lib\\site-packages (from azureml.core) (0.6.0.post1)\n",
      "Collecting azure-graphrbac<1.0.0,>=0.40.0\n",
      "  Using cached azure_graphrbac-0.61.1-py2.py3-none-any.whl (141 kB)\n",
      "Requirement already satisfied: cryptography!=1.9,!=2.0.*,!=2.1.*,!=2.2.*,<4.0.0 in c:\\users\\if\\anaconda3\\lib\\site-packages (from azureml.core) (2.9.2)\n",
      "Collecting msrestazure>=0.4.33\n",
      "  Using cached msrestazure-0.6.4-py2.py3-none-any.whl (40 kB)\n",
      "Collecting azure-mgmt-resource<15.0.0,>=1.2.1\n",
      "  Using cached azure_mgmt_resource-12.1.0-py2.py3-none-any.whl (1.1 MB)\n",
      "Collecting msrest>=0.5.1\n",
      "  Using cached msrest-0.6.21-py2.py3-none-any.whl (85 kB)\n",
      "Requirement already satisfied: pytz in c:\\users\\if\\anaconda3\\lib\\site-packages (from azureml.core) (2020.1)\n",
      "Collecting adal>=1.2.0\n",
      "  Using cached adal-1.2.6-py2.py3-none-any.whl (55 kB)\n",
      "Requirement already satisfied: urllib3>=1.23 in c:\\users\\if\\anaconda3\\lib\\site-packages (from azureml.core) (1.25.9)\n",
      "Collecting SecretStorage\n",
      "  Downloading SecretStorage-3.3.1-py3-none-any.whl (15 kB)\n",
      "Collecting jmespath\n",
      "  Using cached jmespath-0.10.0-py2.py3-none-any.whl (24 kB)\n",
      "Collecting azure-mgmt-authorization<1.0.0,>=0.40.0\n",
      "  Using cached azure_mgmt_authorization-0.61.0-py2.py3-none-any.whl (94 kB)\n",
      "Collecting docker\n",
      "  Using cached docker-4.4.4-py2.py3-none-any.whl (147 kB)\n",
      "Collecting ruamel.yaml>=0.15.35\n",
      "  Using cached ruamel.yaml-0.17.2-py3-none-any.whl (101 kB)\n",
      "Requirement already satisfied: certifi>=2017.4.17 in c:\\users\\if\\anaconda3\\lib\\site-packages (from requests<3.0.0,>=2.19.1->azureml.core) (2020.6.20)\n",
      "Requirement already satisfied: chardet<4,>=3.0.2 in c:\\users\\if\\anaconda3\\lib\\site-packages (from requests<3.0.0,>=2.19.1->azureml.core) (3.0.4)\n",
      "Requirement already satisfied: idna<3,>=2.5 in c:\\users\\if\\anaconda3\\lib\\site-packages (from requests<3.0.0,>=2.19.1->azureml.core) (2.10)\n",
      "Requirement already satisfied: backports.weakref in c:\\users\\if\\anaconda3\\lib\\site-packages (from backports.tempfile->azureml.core) (1.0.post1)\n",
      "Requirement already satisfied: six>=1.5 in c:\\users\\if\\anaconda3\\lib\\site-packages (from python-dateutil>=2.7.3->azureml.core) (1.15.0)\n",
      "Requirement already satisfied: pyasn1>=0.1.1 in c:\\users\\if\\anaconda3\\lib\\site-packages (from ndg-httpsclient->azureml.core) (0.4.8)\n",
      "Requirement already satisfied: cffi!=1.11.3,>=1.8 in c:\\users\\if\\anaconda3\\lib\\site-packages (from cryptography!=1.9,!=2.0.*,!=2.1.*,!=2.2.*,<4.0.0->azureml.core) (1.14.0)\n",
      "Collecting isodate>=0.6.0\n",
      "  Using cached isodate-0.6.0-py2.py3-none-any.whl (45 kB)\n",
      "Requirement already satisfied: requests-oauthlib>=0.5.0 in c:\\users\\if\\anaconda3\\lib\\site-packages (from msrest>=0.5.1->azureml.core) (1.3.0)\n",
      "Collecting jeepney>=0.6\n",
      "  Downloading jeepney-0.6.0-py3-none-any.whl (45 kB)\n",
      "Collecting websocket-client>=0.32.0\n",
      "  Using cached websocket_client-0.58.0-py2.py3-none-any.whl (61 kB)\n",
      "Requirement already satisfied: pywin32==227; sys_platform == \"win32\" in c:\\users\\if\\anaconda3\\lib\\site-packages (from docker->azureml.core) (227)\n",
      "Collecting ruamel.yaml.clib>=0.1.2; platform_python_implementation == \"CPython\" and python_version < \"3.10\"\n",
      "  Downloading ruamel.yaml.clib-0.2.2-cp38-cp38-win_amd64.whl (120 kB)\n",
      "Requirement already satisfied: pycparser in c:\\users\\if\\anaconda3\\lib\\site-packages (from cffi!=1.11.3,>=1.8->cryptography!=1.9,!=2.0.*,!=2.1.*,!=2.2.*,<4.0.0->azureml.core) (2.20)\n",
      "Requirement already satisfied: oauthlib>=3.0.0 in c:\\users\\if\\anaconda3\\lib\\site-packages (from requests-oauthlib>=0.5.0->msrest>=0.5.1->azureml.core) (3.1.0)\n",
      "Installing collected packages: PyJWT, azure-common, pathspec, adal, isodate, msrest, msrestazure, azure-mgmt-keyvault, azure-mgmt-containerregistry, ndg-httpsclient, jsonpickle, azure-mgmt-storage, azure-graphrbac, azure-mgmt-resource, jeepney, SecretStorage, jmespath, azure-mgmt-authorization, websocket-client, docker, ruamel.yaml.clib, ruamel.yaml, azureml.core\n",
      "Successfully installed PyJWT-2.0.1 SecretStorage-3.3.1 adal-1.2.6 azure-common-1.1.27 azure-graphrbac-0.61.1 azure-mgmt-authorization-0.61.0 azure-mgmt-containerregistry-2.8.0 azure-mgmt-keyvault-2.2.0 azure-mgmt-resource-12.1.0 azure-mgmt-storage-11.2.0 azureml.core docker-4.4.4 isodate-0.6.0 jeepney-0.6.0 jmespath-0.10.0 jsonpickle-2.0.0 msrest-0.6.21 msrestazure-0.6.4 ndg-httpsclient-0.5.1 pathspec-0.8.1 ruamel.yaml-0.17.2 ruamel.yaml.clib-0.2.2 websocket-client-0.58.0\n"
     ]
    }
   ],
   "source": [
    "!pip install azureml.core"
   ]
  },
  {
   "cell_type": "code",
   "execution_count": 36,
   "metadata": {},
   "outputs": [
    {
     "name": "stderr",
     "output_type": "stream",
     "text": [
      "UserWarning: The resource group doesn't exist or was not provided. AzureML SDK is creating a resource group=new_loan_data2 in location=westeurope using subscription=8fd943c6-b436-4de5-919a-672cd62700a5.\n"
     ]
    },
    {
     "name": "stdout",
     "output_type": "stream",
     "text": [
      "Deploying StorageAccount with name loanpredstoragea2f46cc3e.\n",
      "Deploying AppInsights with name loanpredinsights6d8d41f0.\n",
      "Deployed AppInsights with name loanpredinsights6d8d41f0. Took 9.08 seconds.\n",
      "Deploying KeyVault with name loanpredkeyvaulte5712573.\n",
      "Deployed KeyVault with name loanpredkeyvaulte5712573. Took 25.75 seconds.\n",
      "Deployed StorageAccount with name loanpredstoragea2f46cc3e. Took 30.9 seconds.\n",
      "Deploying Workspace with name Loan_Predict_Deploy_True.\n",
      "Deployed Workspace with name Loan_Predict_Deploy_True. Took 42.58 seconds.\n"
     ]
    }
   ],
   "source": [
    "from azureml.core import Workspace\n",
    "ws = Workspace.create(name='Loan_Predict_Deploy_True',\n",
    "                      subscription_id = 'fill-with-the-subscription-id-from-azure',\n",
    "                      resource_group = 'new_loan_data2',\n",
    "                      create_resource_group = True,\n",
    "                      location='westeurope')"
   ]
  },
  {
   "cell_type": "code",
   "execution_count": 37,
   "metadata": {},
   "outputs": [
    {
     "name": "stdout",
     "output_type": "stream",
     "text": [
      "Registering model Loan_Predict_Model\n"
     ]
    }
   ],
   "source": [
    "from azureml.core.model import Model\n",
    "model = Model.register(model_path = 'model.onnx',\n",
    "                       model_name = 'Loan_Predict_Model',\n",
    "                       description = 'Testing Loan Model Deployment',\n",
    "                       workspace = ws)"
   ]
  },
  {
   "cell_type": "code",
   "execution_count": 38,
   "metadata": {},
   "outputs": [
    {
     "name": "stderr",
     "output_type": "stream",
     "text": [
      "<ipython-input-38-26aa655c1ccd>:3: DeprecationWarning: ContainerImage class has been deprecated and will be removed in a future release. Please migrate to using Environments. https://docs.microsoft.com/en-us/azure/machine-learning/how-to-use-environments\n",
      "  image_config = ContainerImage.image_configuration(execution_script = \"score.py\",\n"
     ]
    }
   ],
   "source": [
    "from azureml.core.image import ContainerImage\n",
    "\n",
    "image_config = ContainerImage.image_configuration(execution_script = \"score.py\",\n",
    "                                                  runtime = \"python\",\n",
    "                                                  conda_file = \"myenv.yml\",\n",
    "                                                  description = \"Loan_prediction\"\n",
    "                                                 )"
   ]
  },
  {
   "cell_type": "code",
   "execution_count": 39,
   "metadata": {},
   "outputs": [
    {
     "name": "stderr",
     "output_type": "stream",
     "text": [
      "<ipython-input-39-da58477f56ca>:1: DeprecationWarning: Image class has been deprecated and will be removed in a future release. Please migrate to using Environments. https://docs.microsoft.com/en-us/azure/machine-learning/how-to-use-environments\n",
      "  image = ContainerImage.create(name = \"loanmodel5\",\n"
     ]
    },
    {
     "name": "stdout",
     "output_type": "stream",
     "text": [
      "Creating image\n",
      "Running............................................\n",
      "Succeeded\n",
      "Image creation operation finished for image loanmodel5:1, operation \"Succeeded\"\n"
     ]
    }
   ],
   "source": [
    "image = ContainerImage.create(name = \"loanmodel5\",\n",
    "                              models = [model],\n",
    "                              image_config = image_config,\n",
    "                              workspace = ws)\n",
    "image.wait_for_creation(show_output = True)\n"
   ]
  },
  {
   "cell_type": "code",
   "execution_count": 40,
   "metadata": {},
   "outputs": [
    {
     "name": "stderr",
     "output_type": "stream",
     "text": [
      "<ipython-input-40-ab945b9264bf>:9: DeprecationWarning: deploy_from_image has been deprecated and will be removed in a future release. Please migrate to using Environments. https://docs.microsoft.com/en-us/azure/machine-learning/how-to-use-environments\n",
      "  service = Webservice.deploy_from_image(deployment_config = aciconfig,\n"
     ]
    },
    {
     "name": "stdout",
     "output_type": "stream",
     "text": [
      "Tips: You can try get_logs(): https://aka.ms/debugimage#dockerlog or local deployment: https://aka.ms/debugimage#debug-locally to debug if deployment takes longer than 10 minutes.\n",
      "Running\n",
      "2021-03-31 19:49:59+07:00 Generating deployment configuration.\n",
      "2021-03-31 19:49:59+07:00 Submitting deployment to compute..\n",
      "2021-03-31 19:50:42+07:00 Checking the status of deployment loan-default-prediction8..\n",
      "2021-03-31 19:57:13+07:00 Checking the status of inference endpoint loan-default-prediction8.\n",
      "Succeeded\n",
      "ACI service creation operation finished, operation \"Succeeded\"\n",
      "Healthy\n"
     ]
    }
   ],
   "source": [
    "from azureml.core.webservice import AciWebservice, Webservice\n",
    "\n",
    "aciconfig = AciWebservice.deploy_configuration(cpu_cores = 1, \n",
    "                                               memory_gb = 1, \n",
    "                                               tags = {\"data\": \"Loan\", \"type\": \"classification\"}, \n",
    "                                               description = 'Default Loan Prediction')\n",
    "\n",
    "service_name = 'loan-default-prediction8'\n",
    "service = Webservice.deploy_from_image(deployment_config = aciconfig,\n",
    "                                            image = image,\n",
    "                                            name = service_name,\n",
    "                                            workspace = ws)\n",
    "\n",
    "service.wait_for_deployment(show_output = True)\n",
    "print(service.state)"
   ]
  },
  {
   "cell_type": "code",
   "execution_count": 41,
   "metadata": {},
   "outputs": [
    {
     "data": {
      "text/plain": [
       "'http://e3269d5d-018b-4ce0-a2d7-32f445789165.westeurope.azurecontainer.io/score'"
      ]
     },
     "execution_count": 41,
     "metadata": {},
     "output_type": "execute_result"
    }
   ],
   "source": [
    "service.scoring_uri"
   ]
  },
  {
   "cell_type": "code",
   "execution_count": null,
   "metadata": {},
   "outputs": [],
   "source": [
    "#testing\n",
    "import request"
   ]
  }
 ],
 "metadata": {
  "kernelspec": {
   "display_name": "Python 3",
   "language": "python",
   "name": "python3"
  },
  "language_info": {
   "codemirror_mode": {
    "name": "ipython",
    "version": 3
   },
   "file_extension": ".py",
   "mimetype": "text/x-python",
   "name": "python",
   "nbconvert_exporter": "python",
   "pygments_lexer": "ipython3",
   "version": "3.8.3"
  }
 },
 "nbformat": 4,
 "nbformat_minor": 4
}
